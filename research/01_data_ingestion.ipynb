{
 "cells": [
  {
   "cell_type": "code",
   "execution_count": 1,
   "metadata": {},
   "outputs": [],
   "source": [
    "import os\n",
    "os.chdir(\"../\")"
   ]
  },
  {
   "cell_type": "code",
   "execution_count": 2,
   "metadata": {},
   "outputs": [],
   "source": [
    "from dataclasses import dataclass\n",
    "from pathlib import Path\n",
    "\n",
    "@dataclass(frozen=True)\n",
    "class DataIngestionConfig:\n",
    "    root_dir: Path\n",
    "    source_URL: str\n",
    "    local_data_file: Path\n",
    "    unzip_dir: Path\n",
    "\n"
   ]
  },
  {
   "cell_type": "code",
   "execution_count": 3,
   "metadata": {},
   "outputs": [],
   "source": [
    "from src.mlflow_demo.constants import *\n",
    "from src.mlflow_demo.utils.common import read_yaml, create_directories"
   ]
  },
  {
   "cell_type": "code",
   "execution_count": 5,
   "metadata": {},
   "outputs": [],
   "source": [
    "class ConfigurationManager:\n",
    "    def __init__(self, \n",
    "                 config_file_path=CONFIG_FILE_PATH,\n",
    "                 params_file_path=PARAMS_FILE_PATH,\n",
    "                 schema_file_path=SCHEMA_FILE_PATH) -> None:\n",
    "        self.config = read_yaml(config_file_path)\n",
    "        self.params = read_yaml(params_file_path)\n",
    "        self.schema = read_yaml(schema_file_path)\n",
    "\n",
    "        create_directories([self.config.artifacts_root])\n",
    "\n",
    "\n",
    "    def get_data_ingestion_config(self) -> DataIngestionConfig:\n",
    "        create_directories([self.config.data_ingestion.root_dir])\n",
    "        return DataIngestionConfig(\n",
    "            root_dir=self.config.data_ingestion.root_dir,\n",
    "            source_URL=self.config.data_ingestion.source_URL,\n",
    "            local_data_file=self.config.data_ingestion.local_data_file,\n",
    "            unzip_dir=self.config.data_ingestion.unzip_dir\n",
    "        )"
   ]
  },
  {
   "cell_type": "code",
   "execution_count": 6,
   "metadata": {},
   "outputs": [],
   "source": [
    "import os\n",
    "import zipfile\n",
    "from src.mlflow_demo import logger\n",
    "import urllib.request as req\n",
    "from src.mlflow_demo.utils.common import get_size\n",
    "\n",
    "class DataIngestion:\n",
    "    def __init__(self, config: DataIngestionConfig) -> None:\n",
    "        self.config = config\n",
    "\n",
    "    def download_file(self):\n",
    "        if not os.path.exists(self.config.local_data_file):\n",
    "            filename, headers = req.urlretrieve(self.config.source_URL, self.config.local_data_file)\n",
    "            logger.info(f'File {filename} downloaded with info {headers}')\n",
    "        else:\n",
    "            logger.info(f'File {self.config.local_data_file} already exists with size {get_size(Path(self.config.local_data_file))}')\n",
    "            \n",
    "    def extract_zip_file(self):\n",
    "        os.makedirs(self.config.unzip_dir, exist_ok=True)\n",
    "        with zipfile.ZipFile(self.config.local_data_file, 'r') as zip:\n",
    "            zip.extractall(self.config.unzip_dir)\n"
   ]
  },
  {
   "cell_type": "code",
   "execution_count": 10,
   "metadata": {},
   "outputs": [
    {
     "name": "stdout",
     "output_type": "stream",
     "text": [
      "[2023-07-30 17:31:52,069: INFO: common: Yaml config/config.yml loaded successfully.]\n",
      "[2023-07-30 17:31:52,072: INFO: common: Yaml params.yml loaded successfully.]\n",
      "[2023-07-30 17:31:52,074: INFO: common: Yaml schema.yml loaded successfully.]\n",
      "[2023-07-30 17:31:52,076: INFO: common: created directory: artifacts]\n",
      "[2023-07-30 17:31:52,078: INFO: common: created directory: artifacts/data_ingestion]\n",
      "[2023-07-30 17:31:52,793: INFO: 918654868: File artifacts/data_ingestion/data.zip downloaded with info Connection: close\n",
      "Content-Length: 23329\n",
      "Cache-Control: max-age=300\n",
      "Content-Security-Policy: default-src 'none'; style-src 'unsafe-inline'; sandbox\n",
      "Content-Type: application/zip\n",
      "ETag: \"c69888a4ae59bc5a893392785a938ccd4937981c06ba8a9d6a21aa52b4ab5b6e\"\n",
      "Strict-Transport-Security: max-age=31536000\n",
      "X-Content-Type-Options: nosniff\n",
      "X-Frame-Options: deny\n",
      "X-XSS-Protection: 1; mode=block\n",
      "X-GitHub-Request-Id: 95D0:0962:272EDD3:28D063C:64C67459\n",
      "Accept-Ranges: bytes\n",
      "Date: Sun, 30 Jul 2023 14:31:53 GMT\n",
      "Via: 1.1 varnish\n",
      "X-Served-By: cache-sof1510024-SOF\n",
      "X-Cache: MISS\n",
      "X-Cache-Hits: 0\n",
      "X-Timer: S1690727513.212307,VS0,VE181\n",
      "Vary: Authorization,Accept-Encoding,Origin\n",
      "Access-Control-Allow-Origin: *\n",
      "Cross-Origin-Resource-Policy: cross-origin\n",
      "X-Fastly-Request-ID: 8ea541206f88f7750f31938447d7807ba01eff7f\n",
      "Expires: Sun, 30 Jul 2023 14:36:53 GMT\n",
      "Source-Age: 0\n",
      "\n",
      "]\n"
     ]
    }
   ],
   "source": [
    "# Pipeline - All toghether\n",
    "\n",
    "try:\n",
    "    config_manager = ConfigurationManager()\n",
    "    config = config_manager.get_data_ingestion_config()\n",
    "    data_ingestion = DataIngestion(config=config)\n",
    "    data_ingestion.download_file()\n",
    "    data_ingestion.extract_zip_file()\n",
    "except Exception as e:\n",
    "    raise e"
   ]
  },
  {
   "cell_type": "code",
   "execution_count": null,
   "metadata": {},
   "outputs": [],
   "source": []
  }
 ],
 "metadata": {
  "kernelspec": {
   "display_name": "mlenv",
   "language": "python",
   "name": "python3"
  },
  "language_info": {
   "codemirror_mode": {
    "name": "ipython",
    "version": 3
   },
   "file_extension": ".py",
   "mimetype": "text/x-python",
   "name": "python",
   "nbconvert_exporter": "python",
   "pygments_lexer": "ipython3",
   "version": "3.9.13"
  },
  "orig_nbformat": 4
 },
 "nbformat": 4,
 "nbformat_minor": 2
}
