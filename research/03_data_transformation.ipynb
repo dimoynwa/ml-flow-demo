{
 "cells": [
  {
   "cell_type": "code",
   "execution_count": 1,
   "metadata": {},
   "outputs": [],
   "source": [
    "import os\n",
    "os.chdir('../')"
   ]
  },
  {
   "cell_type": "code",
   "execution_count": 2,
   "metadata": {},
   "outputs": [],
   "source": [
    "from dataclasses import dataclass\n",
    "from pathlib import Path\n",
    "\n",
    "@dataclass(frozen=True)\n",
    "class DataTransformationConfig:\n",
    "    root_dir: Path\n",
    "    data_path: Path"
   ]
  },
  {
   "cell_type": "code",
   "execution_count": 6,
   "metadata": {},
   "outputs": [],
   "source": [
    "from src.mlflow_demo.constants import *\n",
    "from src.mlflow_demo.utils.common import read_yaml, create_directories\n",
    "\n",
    "class ConfigurationManager:\n",
    "    def __init__(self, \n",
    "                 config_file_path=CONFIG_FILE_PATH,\n",
    "                 params_file_path=PARAMS_FILE_PATH,\n",
    "                 schema_file_path=SCHEMA_FILE_PATH) -> None:\n",
    "        self.config = read_yaml(config_file_path)\n",
    "        self.params = read_yaml(params_file_path)\n",
    "        self.schema = read_yaml(schema_file_path)\n",
    "\n",
    "        create_directories([self.config.artifacts_root])\n",
    "\n",
    "    def get_data_transformation_config(self):\n",
    "        create_directories([self.config.data_transformation.root_dir])\n",
    "        return DataTransformationConfig(root_dir=self.config.data_transformation.root_dir,\n",
    "                                        data_path=self.config.data_transformation.data_path)\n",
    "    \n",
    "    "
   ]
  },
  {
   "cell_type": "code",
   "execution_count": 7,
   "metadata": {},
   "outputs": [],
   "source": [
    "import os\n",
    "from src.mlflow_demo import logger\n",
    "from sklearn.model_selection import train_test_split\n",
    "import pandas as pd\n",
    "\n",
    "class DataTransformation:\n",
    "    def __init__(self, config: DataTransformationConfig) -> None:\n",
    "        self.config = config\n",
    "\n",
    "    ## Note: We can add different data transformation techniques as PCA, Scaler and so on.\n",
    "    def train_test_spliting(self):\n",
    "        df = pd.read_csv(self.config.data_path)\n",
    "        train, test = train_test_split(df)\n",
    "\n",
    "        train.to_csv(os.path.join(self.config.root_dir, 'train.csv'), index=False)\n",
    "        test.to_csv(os.path.join(self.config.root_dir, 'test.csv'), index=False)\n",
    "\n",
    "        logger.info('Splited data into train and test arrays')\n",
    "        logger.info(f'Train shape {train.shape}')\n",
    "        logger.info(f'Test shape {test.shape}')\n",
    "\n",
    "        print(f'Train shape {train.shape}')\n",
    "        print(f'Test shape {test.shape}')\n"
   ]
  },
  {
   "cell_type": "code",
   "execution_count": 8,
   "metadata": {},
   "outputs": [
    {
     "name": "stdout",
     "output_type": "stream",
     "text": [
      "[2023-07-31 21:29:00,434: INFO: common: Yaml config/config.yml loaded successfully.]\n",
      "[2023-07-31 21:29:00,436: INFO: common: Yaml params.yml loaded successfully.]\n",
      "[2023-07-31 21:29:00,439: INFO: common: Yaml schema.yml loaded successfully.]\n",
      "[2023-07-31 21:29:00,442: INFO: common: created directory: artifacts]\n",
      "[2023-07-31 21:29:00,444: INFO: common: created directory: artifacts/data_transformation]\n",
      "[2023-07-31 21:29:00,472: INFO: 1258164375: Splited data into train and test arrays]\n",
      "[2023-07-31 21:29:00,475: INFO: 1258164375: Train shape (1199, 12)]\n",
      "[2023-07-31 21:29:00,477: INFO: 1258164375: Test shape (400, 12)]\n",
      "Train shape (1199, 12)\n",
      "Test shape (400, 12)\n"
     ]
    }
   ],
   "source": [
    "try:\n",
    "    manager = ConfigurationManager()\n",
    "    config = manager.get_data_transformation_config()\n",
    "    processor = DataTransformation(config=config)\n",
    "    processor.train_test_spliting()\n",
    "except Exception as e:\n",
    "    raise e"
   ]
  },
  {
   "cell_type": "code",
   "execution_count": null,
   "metadata": {},
   "outputs": [],
   "source": []
  }
 ],
 "metadata": {
  "kernelspec": {
   "display_name": "mlenv",
   "language": "python",
   "name": "python3"
  },
  "language_info": {
   "codemirror_mode": {
    "name": "ipython",
    "version": 3
   },
   "file_extension": ".py",
   "mimetype": "text/x-python",
   "name": "python",
   "nbconvert_exporter": "python",
   "pygments_lexer": "ipython3",
   "version": "3.9.13"
  },
  "orig_nbformat": 4
 },
 "nbformat": 4,
 "nbformat_minor": 2
}
