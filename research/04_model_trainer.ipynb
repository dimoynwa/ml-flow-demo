{
 "cells": [
  {
   "cell_type": "code",
   "execution_count": 4,
   "metadata": {},
   "outputs": [],
   "source": [
    "import os\n",
    "os.chdir('../')"
   ]
  },
  {
   "cell_type": "code",
   "execution_count": 5,
   "metadata": {},
   "outputs": [],
   "source": [
    "from dataclasses import dataclass\n",
    "from pathlib import Path\n",
    "\n",
    "@dataclass(frozen=True)\n",
    "class ModelTrainerConfig:\n",
    "    root_dir: Path\n",
    "    train_data_path: Path\n",
    "    test_data_path: Path\n",
    "    model_name: str\n",
    "    alpha: float\n",
    "    l1_ratio: float\n",
    "    target_column: str"
   ]
  },
  {
   "cell_type": "code",
   "execution_count": 8,
   "metadata": {},
   "outputs": [],
   "source": [
    "from src.mlflow_demo.constants import *\n",
    "from src.mlflow_demo.utils.common import read_yaml, create_directories\n",
    "\n",
    "class ConfigurationManager:\n",
    "    def __init__(self, \n",
    "                 config_file_path=CONFIG_FILE_PATH,\n",
    "                 params_file_path=PARAMS_FILE_PATH,\n",
    "                 schema_file_path=SCHEMA_FILE_PATH) -> None:\n",
    "        self.config = read_yaml(config_file_path)\n",
    "        self.params = read_yaml(params_file_path)\n",
    "        self.schema = read_yaml(schema_file_path)\n",
    "\n",
    "        create_directories([self.config.artifacts_root])\n",
    "\n",
    "    def get_model_trainer_config(self):\n",
    "        create_directories([self.config.model_trainer.root_dir])\n",
    "        return ModelTrainerConfig(root_dir=self.config.model_trainer.root_dir,\n",
    "                                  train_data_path=self.config.model_trainer.train_data_path,\n",
    "                                  test_data_path=self.config.model_trainer.test_data_path,\n",
    "                                  model_name= self.config.model_trainer.model_name,\n",
    "                                  alpha=self.params.ElasticNet.alpha,\n",
    "                                  l1_ratio=self.params.ElasticNet.l1_ratio,\n",
    "                                  target_column=self.schema.TARGET_COLUMN.name)\n",
    "    "
   ]
  },
  {
   "cell_type": "code",
   "execution_count": 9,
   "metadata": {},
   "outputs": [
    {
     "name": "stdout",
     "output_type": "stream",
     "text": [
      "[2023-07-31 22:09:41,736: INFO: utils: Note: NumExpr detected 12 cores but \"NUMEXPR_MAX_THREADS\" not set, so enforcing safe limit of 8.]\n",
      "[2023-07-31 22:09:41,742: INFO: utils: NumExpr defaulting to 8 threads.]\n"
     ]
    }
   ],
   "source": [
    "import pandas as pd\n",
    "import joblib\n",
    "from src.mlflow_demo import logger\n",
    "from sklearn.linear_model import ElasticNet\n",
    "import os\n",
    "\n",
    "class ModelTrainer:\n",
    "    def __init__(self, config: ModelTrainerConfig) -> None:\n",
    "        self.config = config\n",
    "\n",
    "    def train(self):\n",
    "        train = pd.read_csv(self.config.train_data_path)\n",
    "        test = pd.read_csv(self.config.test_data_path)\n",
    "\n",
    "        train_x = train.drop([self.config.target_column], axis=1)\n",
    "        test_x = test.drop([self.config.target_column], axis=1)\n",
    "\n",
    "        train_y = train[[self.config.target_column]]\n",
    "        test_y = test[[self.config.target_column]]\n",
    "\n",
    "        lr = ElasticNet(alpha=self.config.alpha, l1_ratio=self.config.l1_ratio, random_state=42)\n",
    "        lr.fit(train_x, train_y)\n",
    "\n",
    "        # Save the model\n",
    "        joblib.dump(lr, os.path.join(self.config.root_dir, self.config.model_name))"
   ]
  },
  {
   "cell_type": "code",
   "execution_count": 11,
   "metadata": {},
   "outputs": [
    {
     "name": "stdout",
     "output_type": "stream",
     "text": [
      "[2023-07-31 22:12:24,737: INFO: common: Yaml config/config.yml loaded successfully.]\n",
      "[2023-07-31 22:12:24,741: INFO: common: Yaml params.yml loaded successfully.]\n",
      "[2023-07-31 22:12:24,744: INFO: common: Yaml schema.yml loaded successfully.]\n",
      "[2023-07-31 22:12:24,745: INFO: common: created directory: artifacts]\n",
      "[2023-07-31 22:12:24,747: INFO: common: created directory: artifacts/model_trainer]\n"
     ]
    }
   ],
   "source": [
    "try:\n",
    "    manager = ConfigurationManager()\n",
    "    config = manager.get_model_trainer_config()\n",
    "\n",
    "    process = ModelTrainer(config=config)\n",
    "    process.train()\n",
    "except Exception as e:\n",
    "    raise e"
   ]
  },
  {
   "cell_type": "code",
   "execution_count": null,
   "metadata": {},
   "outputs": [],
   "source": []
  }
 ],
 "metadata": {
  "kernelspec": {
   "display_name": "mlenv",
   "language": "python",
   "name": "python3"
  },
  "language_info": {
   "codemirror_mode": {
    "name": "ipython",
    "version": 3
   },
   "file_extension": ".py",
   "mimetype": "text/x-python",
   "name": "python",
   "nbconvert_exporter": "python",
   "pygments_lexer": "ipython3",
   "version": "3.9.13"
  },
  "orig_nbformat": 4
 },
 "nbformat": 4,
 "nbformat_minor": 2
}
